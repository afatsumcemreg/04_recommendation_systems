{
 "cells": [
  {
   "cell_type": "markdown",
   "id": "28412b62",
   "metadata": {
    "papermill": {
     "duration": 0.013605,
     "end_time": "2022-11-19T23:22:21.273963",
     "exception": false,
     "start_time": "2022-11-19T23:22:21.260358",
     "status": "completed"
    },
    "tags": []
   },
   "source": [
    "# Item-Based Recommendation System using the Datasets *'movie and rating'* "
   ]
  },
  {
   "cell_type": "markdown",
   "id": "4ab019d3",
   "metadata": {
    "papermill": {
     "duration": 0.008803,
     "end_time": "2022-11-19T23:22:21.292380",
     "exception": false,
     "start_time": "2022-11-19T23:22:21.283577",
     "status": "completed"
    },
    "tags": []
   },
   "source": [
    "# Business problem\n",
    "\n",
    "### An online movie viewing platform wants to develop a recommendation system with collaborative filtering. Trying out content-based recommendation systems, the company wants to develop recommendations to accommodate my place in the community. When the pioneers like a movie, it is desirable to learn about other movies that have a similar veil of appreciation.\n",
    "\n",
    "# Dataset story\n",
    "\n",
    "### The data set is provided by the mobile lens, it contains the movies and the scores given to these movies. The dataset contains more than 20000000 ratings for approximately 27000 movies per hour.\n",
    "\n",
    "# Variables\n",
    "\n",
    "### There are many different tables in this dataset, but there are 2 CSV files to use.\n",
    "\n",
    "#### movie.csv\n",
    "\n",
    "* movieId - Unique movie number\n",
    "\n",
    "* title - movie name\n",
    "\n",
    "#### rating.csv\n",
    "\n",
    "* userid - Unique user number\n",
    "\n",
    "* movieId - Unique movie number\n",
    "\n",
    "* rating - the rating given to the movie by the user\n",
    "\n",
    "* timestamp - review date"
   ]
  },
  {
   "cell_type": "markdown",
   "id": "57eb0c99",
   "metadata": {
    "papermill": {
     "duration": 0.01046,
     "end_time": "2022-11-19T23:22:21.311965",
     "exception": false,
     "start_time": "2022-11-19T23:22:21.301505",
     "status": "completed"
    },
    "tags": []
   },
   "source": [
    "# Importing the libraries"
   ]
  },
  {
   "cell_type": "code",
   "execution_count": 1,
   "id": "5c940682",
   "metadata": {
    "_cell_guid": "b1076dfc-b9ad-4769-8c92-a6c4dae69d19",
    "_uuid": "8f2839f25d086af736a60e9eeb907d3b93b6e0e5",
    "execution": {
     "iopub.execute_input": "2022-11-19T23:22:21.333219Z",
     "iopub.status.busy": "2022-11-19T23:22:21.332597Z",
     "iopub.status.idle": "2022-11-19T23:22:21.346183Z",
     "shell.execute_reply": "2022-11-19T23:22:21.345325Z"
    },
    "papermill": {
     "duration": 0.027167,
     "end_time": "2022-11-19T23:22:21.348975",
     "exception": false,
     "start_time": "2022-11-19T23:22:21.321808",
     "status": "completed"
    },
    "tags": []
   },
   "outputs": [],
   "source": [
    "import pandas as pd\n",
    "pd.set_option('display.max_columns', None)"
   ]
  },
  {
   "cell_type": "markdown",
   "id": "2f56a5ab",
   "metadata": {
    "papermill": {
     "duration": 0.00892,
     "end_time": "2022-11-19T23:22:21.367035",
     "exception": false,
     "start_time": "2022-11-19T23:22:21.358115",
     "status": "completed"
    },
    "tags": []
   },
   "source": [
    "# Reading and combining the datasets"
   ]
  },
  {
   "cell_type": "code",
   "execution_count": 2,
   "id": "9bdeeddd",
   "metadata": {
    "execution": {
     "iopub.execute_input": "2022-11-19T23:22:21.387391Z",
     "iopub.status.busy": "2022-11-19T23:22:21.386986Z",
     "iopub.status.idle": "2022-11-19T23:23:01.352115Z",
     "shell.execute_reply": "2022-11-19T23:23:01.350416Z"
    },
    "papermill": {
     "duration": 39.988157,
     "end_time": "2022-11-19T23:23:01.364485",
     "exception": false,
     "start_time": "2022-11-19T23:22:21.376328",
     "status": "completed"
    },
    "tags": []
   },
   "outputs": [
    {
     "data": {
      "text/html": [
       "<div>\n",
       "<style scoped>\n",
       "    .dataframe tbody tr th:only-of-type {\n",
       "        vertical-align: middle;\n",
       "    }\n",
       "\n",
       "    .dataframe tbody tr th {\n",
       "        vertical-align: top;\n",
       "    }\n",
       "\n",
       "    .dataframe thead th {\n",
       "        text-align: right;\n",
       "    }\n",
       "</style>\n",
       "<table border=\"1\" class=\"dataframe\">\n",
       "  <thead>\n",
       "    <tr style=\"text-align: right;\">\n",
       "      <th></th>\n",
       "      <th>movieid</th>\n",
       "      <th>title</th>\n",
       "      <th>genres</th>\n",
       "      <th>userid</th>\n",
       "      <th>rating</th>\n",
       "      <th>timestamp</th>\n",
       "    </tr>\n",
       "  </thead>\n",
       "  <tbody>\n",
       "    <tr>\n",
       "      <th>0</th>\n",
       "      <td>1</td>\n",
       "      <td>Toy Story (1995)</td>\n",
       "      <td>Adventure|Animation|Children|Comedy|Fantasy</td>\n",
       "      <td>3.0</td>\n",
       "      <td>4.0</td>\n",
       "      <td>1999-12-11 13:36:47</td>\n",
       "    </tr>\n",
       "    <tr>\n",
       "      <th>1</th>\n",
       "      <td>1</td>\n",
       "      <td>Toy Story (1995)</td>\n",
       "      <td>Adventure|Animation|Children|Comedy|Fantasy</td>\n",
       "      <td>6.0</td>\n",
       "      <td>5.0</td>\n",
       "      <td>1997-03-13 17:50:52</td>\n",
       "    </tr>\n",
       "    <tr>\n",
       "      <th>2</th>\n",
       "      <td>1</td>\n",
       "      <td>Toy Story (1995)</td>\n",
       "      <td>Adventure|Animation|Children|Comedy|Fantasy</td>\n",
       "      <td>8.0</td>\n",
       "      <td>4.0</td>\n",
       "      <td>1996-06-05 13:37:51</td>\n",
       "    </tr>\n",
       "    <tr>\n",
       "      <th>3</th>\n",
       "      <td>1</td>\n",
       "      <td>Toy Story (1995)</td>\n",
       "      <td>Adventure|Animation|Children|Comedy|Fantasy</td>\n",
       "      <td>10.0</td>\n",
       "      <td>4.0</td>\n",
       "      <td>1999-11-25 02:44:47</td>\n",
       "    </tr>\n",
       "    <tr>\n",
       "      <th>4</th>\n",
       "      <td>1</td>\n",
       "      <td>Toy Story (1995)</td>\n",
       "      <td>Adventure|Animation|Children|Comedy|Fantasy</td>\n",
       "      <td>11.0</td>\n",
       "      <td>4.5</td>\n",
       "      <td>2009-01-02 01:13:41</td>\n",
       "    </tr>\n",
       "  </tbody>\n",
       "</table>\n",
       "</div>"
      ],
      "text/plain": [
       "   movieid             title                                       genres  \\\n",
       "0        1  Toy Story (1995)  Adventure|Animation|Children|Comedy|Fantasy   \n",
       "1        1  Toy Story (1995)  Adventure|Animation|Children|Comedy|Fantasy   \n",
       "2        1  Toy Story (1995)  Adventure|Animation|Children|Comedy|Fantasy   \n",
       "3        1  Toy Story (1995)  Adventure|Animation|Children|Comedy|Fantasy   \n",
       "4        1  Toy Story (1995)  Adventure|Animation|Children|Comedy|Fantasy   \n",
       "\n",
       "   userid  rating            timestamp  \n",
       "0     3.0     4.0  1999-12-11 13:36:47  \n",
       "1     6.0     5.0  1997-03-13 17:50:52  \n",
       "2     8.0     4.0  1996-06-05 13:37:51  \n",
       "3    10.0     4.0  1999-11-25 02:44:47  \n",
       "4    11.0     4.5  2009-01-02 01:13:41  "
      ]
     },
     "execution_count": 2,
     "metadata": {},
     "output_type": "execute_result"
    }
   ],
   "source": [
    "rating = pd.read_csv('/kaggle/input/movie-ratingcsv/rating.csv')\n",
    "movie = pd.read_csv('/kaggle/input/movie-ratingcsv/movie.csv')\n",
    "df_ = movie.merge(rating, how='left', on='movieId')\n",
    "df = df_.copy()\n",
    "df.columns = [col.lower() for col in df.columns]\n",
    "df.head()"
   ]
  },
  {
   "cell_type": "code",
   "execution_count": 3,
   "id": "9d577c81",
   "metadata": {
    "execution": {
     "iopub.execute_input": "2022-11-19T23:23:01.384419Z",
     "iopub.status.busy": "2022-11-19T23:23:01.383996Z",
     "iopub.status.idle": "2022-11-19T23:23:01.391169Z",
     "shell.execute_reply": "2022-11-19T23:23:01.390056Z"
    },
    "papermill": {
     "duration": 0.020101,
     "end_time": "2022-11-19T23:23:01.393565",
     "exception": false,
     "start_time": "2022-11-19T23:23:01.373464",
     "status": "completed"
    },
    "tags": []
   },
   "outputs": [
    {
     "data": {
      "text/plain": [
       "(20000797, 6)"
      ]
     },
     "execution_count": 3,
     "metadata": {},
     "output_type": "execute_result"
    }
   ],
   "source": [
    "df.shape"
   ]
  },
  {
   "cell_type": "markdown",
   "id": "6a6026a2",
   "metadata": {
    "papermill": {
     "duration": 0.009282,
     "end_time": "2022-11-19T23:23:01.412303",
     "exception": false,
     "start_time": "2022-11-19T23:23:01.403021",
     "status": "completed"
    },
    "tags": []
   },
   "source": [
    "# Creation of user movie dataframe"
   ]
  },
  {
   "cell_type": "markdown",
   "id": "f7f19648",
   "metadata": {
    "papermill": {
     "duration": 0.009259,
     "end_time": "2022-11-19T23:23:01.431043",
     "exception": false,
     "start_time": "2022-11-19T23:23:01.421784",
     "status": "completed"
    },
    "tags": []
   },
   "source": [
    "## Determination of the unique movie count"
   ]
  },
  {
   "cell_type": "code",
   "execution_count": 4,
   "id": "55a3fa53",
   "metadata": {
    "execution": {
     "iopub.execute_input": "2022-11-19T23:23:01.452150Z",
     "iopub.status.busy": "2022-11-19T23:23:01.451736Z",
     "iopub.status.idle": "2022-11-19T23:23:03.251748Z",
     "shell.execute_reply": "2022-11-19T23:23:03.250749Z"
    },
    "papermill": {
     "duration": 1.813653,
     "end_time": "2022-11-19T23:23:03.254199",
     "exception": false,
     "start_time": "2022-11-19T23:23:01.440546",
     "status": "completed"
    },
    "tags": []
   },
   "outputs": [
    {
     "data": {
      "text/plain": [
       "27262"
      ]
     },
     "execution_count": 4,
     "metadata": {},
     "output_type": "execute_result"
    }
   ],
   "source": [
    "df.title.nunique()"
   ]
  },
  {
   "cell_type": "markdown",
   "id": "522699e7",
   "metadata": {
    "papermill": {
     "duration": 0.009495,
     "end_time": "2022-11-19T23:23:03.273423",
     "exception": false,
     "start_time": "2022-11-19T23:23:03.263928",
     "status": "completed"
    },
    "tags": []
   },
   "source": [
    "## Determination of rating counts of each movie"
   ]
  },
  {
   "cell_type": "code",
   "execution_count": 5,
   "id": "6ff8b654",
   "metadata": {
    "execution": {
     "iopub.execute_input": "2022-11-19T23:23:03.294278Z",
     "iopub.status.busy": "2022-11-19T23:23:03.293852Z",
     "iopub.status.idle": "2022-11-19T23:23:04.158735Z",
     "shell.execute_reply": "2022-11-19T23:23:04.157568Z"
    },
    "papermill": {
     "duration": 0.878181,
     "end_time": "2022-11-19T23:23:04.161121",
     "exception": false,
     "start_time": "2022-11-19T23:23:03.282940",
     "status": "completed"
    },
    "tags": []
   },
   "outputs": [
    {
     "data": {
      "text/plain": [
       "Pulp Fiction (1994)                 67310\n",
       "Forrest Gump (1994)                 66172\n",
       "Shawshank Redemption, The (1994)    63366\n",
       "Silence of the Lambs, The (1991)    63299\n",
       "Jurassic Park (1993)                59715\n",
       "Name: title, dtype: int64"
      ]
     },
     "execution_count": 5,
     "metadata": {},
     "output_type": "execute_result"
    }
   ],
   "source": [
    "df.title.value_counts().head()"
   ]
  },
  {
   "cell_type": "markdown",
   "id": "c8c0d238",
   "metadata": {
    "papermill": {
     "duration": 0.009738,
     "end_time": "2022-11-19T23:23:04.180673",
     "exception": false,
     "start_time": "2022-11-19T23:23:04.170935",
     "status": "completed"
    },
    "tags": []
   },
   "source": [
    "## Removing the movies taking rating less than 1000"
   ]
  },
  {
   "cell_type": "code",
   "execution_count": 6,
   "id": "e94612d9",
   "metadata": {
    "execution": {
     "iopub.execute_input": "2022-11-19T23:23:04.202424Z",
     "iopub.status.busy": "2022-11-19T23:23:04.201987Z",
     "iopub.status.idle": "2022-11-19T23:23:05.051365Z",
     "shell.execute_reply": "2022-11-19T23:23:05.050200Z"
    },
    "papermill": {
     "duration": 0.863022,
     "end_time": "2022-11-19T23:23:05.053821",
     "exception": false,
     "start_time": "2022-11-19T23:23:04.190799",
     "status": "completed"
    },
    "tags": []
   },
   "outputs": [
    {
     "data": {
      "text/html": [
       "<div>\n",
       "<style scoped>\n",
       "    .dataframe tbody tr th:only-of-type {\n",
       "        vertical-align: middle;\n",
       "    }\n",
       "\n",
       "    .dataframe tbody tr th {\n",
       "        vertical-align: top;\n",
       "    }\n",
       "\n",
       "    .dataframe thead th {\n",
       "        text-align: right;\n",
       "    }\n",
       "</style>\n",
       "<table border=\"1\" class=\"dataframe\">\n",
       "  <thead>\n",
       "    <tr style=\"text-align: right;\">\n",
       "      <th></th>\n",
       "      <th>title</th>\n",
       "    </tr>\n",
       "  </thead>\n",
       "  <tbody>\n",
       "    <tr>\n",
       "      <th>Bear, The (Ours, L') (1988)</th>\n",
       "      <td>999</td>\n",
       "    </tr>\n",
       "    <tr>\n",
       "      <th>Rosewood (1997)</th>\n",
       "      <td>999</td>\n",
       "    </tr>\n",
       "    <tr>\n",
       "      <th>Ted (2012)</th>\n",
       "      <td>999</td>\n",
       "    </tr>\n",
       "    <tr>\n",
       "      <th>One Night at McCool's (2001)</th>\n",
       "      <td>999</td>\n",
       "    </tr>\n",
       "    <tr>\n",
       "      <th>Marked for Death (1990)</th>\n",
       "      <td>998</td>\n",
       "    </tr>\n",
       "    <tr>\n",
       "      <th>...</th>\n",
       "      <td>...</td>\n",
       "    </tr>\n",
       "    <tr>\n",
       "      <th>Rapture (Arrebato) (1980)</th>\n",
       "      <td>1</td>\n",
       "    </tr>\n",
       "    <tr>\n",
       "      <th>Education of Mohammad Hussein, The (2013)</th>\n",
       "      <td>1</td>\n",
       "    </tr>\n",
       "    <tr>\n",
       "      <th>Satanas (2007)</th>\n",
       "      <td>1</td>\n",
       "    </tr>\n",
       "    <tr>\n",
       "      <th>Psychosis (2010)</th>\n",
       "      <td>1</td>\n",
       "    </tr>\n",
       "    <tr>\n",
       "      <th>Innocence (2014)</th>\n",
       "      <td>1</td>\n",
       "    </tr>\n",
       "  </tbody>\n",
       "</table>\n",
       "<p>24103 rows × 1 columns</p>\n",
       "</div>"
      ],
      "text/plain": [
       "                                           title\n",
       "Bear, The (Ours, L') (1988)                  999\n",
       "Rosewood (1997)                              999\n",
       "Ted (2012)                                   999\n",
       "One Night at McCool's (2001)                 999\n",
       "Marked for Death (1990)                      998\n",
       "...                                          ...\n",
       "Rapture (Arrebato) (1980)                      1\n",
       "Education of Mohammad Hussein, The (2013)      1\n",
       "Satanas (2007)                                 1\n",
       "Psychosis (2010)                               1\n",
       "Innocence (2014)                               1\n",
       "\n",
       "[24103 rows x 1 columns]"
      ]
     },
     "execution_count": 6,
     "metadata": {},
     "output_type": "execute_result"
    }
   ],
   "source": [
    "comments_count = pd.DataFrame(df.title.value_counts())\n",
    "comments_count[comments_count['title'] <= 1000]"
   ]
  },
  {
   "cell_type": "markdown",
   "id": "bf95334e",
   "metadata": {
    "papermill": {
     "duration": 0.010059,
     "end_time": "2022-11-19T23:23:05.073957",
     "exception": false,
     "start_time": "2022-11-19T23:23:05.063898",
     "status": "completed"
    },
    "tags": []
   },
   "source": [
    "### Thus, we get the movies taking ratings less than 1000 and their names are also as follows since they are in index."
   ]
  },
  {
   "cell_type": "code",
   "execution_count": 7,
   "id": "7f53d578",
   "metadata": {
    "execution": {
     "iopub.execute_input": "2022-11-19T23:23:05.096086Z",
     "iopub.status.busy": "2022-11-19T23:23:05.095677Z",
     "iopub.status.idle": "2022-11-19T23:23:05.107132Z",
     "shell.execute_reply": "2022-11-19T23:23:05.106091Z"
    },
    "papermill": {
     "duration": 0.02546,
     "end_time": "2022-11-19T23:23:05.109631",
     "exception": false,
     "start_time": "2022-11-19T23:23:05.084171",
     "status": "completed"
    },
    "tags": []
   },
   "outputs": [
    {
     "data": {
      "text/plain": [
       "Index(['Bear, The (Ours, L') (1988)', 'Rosewood (1997)', 'Ted (2012)',\n",
       "       'One Night at McCool's (2001)', 'Marked for Death (1990)',\n",
       "       'Three to Tango (1999)', 'Adam's Rib (1949)',\n",
       "       'I Now Pronounce You Chuck and Larry (2007)',\n",
       "       'Italian for Beginners (Italiensk for begyndere) (2000)',\n",
       "       'Husbands and Wives (1992)',\n",
       "       ...\n",
       "       'Satan's Sword (Daibosatsu tôge) (1960)',\n",
       "       'Blind Massage (Tui na) (2014)', 'Prêt à tout (2014)',\n",
       "       'Ditchdigger's Daughters, The (1997)', 'A.K. (1985)',\n",
       "       'Rapture (Arrebato) (1980)',\n",
       "       'Education of Mohammad Hussein, The (2013)', 'Satanas (2007)',\n",
       "       'Psychosis (2010)', 'Innocence (2014)'],\n",
       "      dtype='object', length=24103)"
      ]
     },
     "execution_count": 7,
     "metadata": {},
     "output_type": "execute_result"
    }
   ],
   "source": [
    "comments_count[comments_count['title'] <= 1000].index"
   ]
  },
  {
   "cell_type": "markdown",
   "id": "956cd634",
   "metadata": {
    "papermill": {
     "duration": 0.009953,
     "end_time": "2022-11-19T23:23:05.129759",
     "exception": false,
     "start_time": "2022-11-19T23:23:05.119806",
     "status": "completed"
    },
    "tags": []
   },
   "source": [
    "### The rare movies can be named 'rare_movies' as follows:"
   ]
  },
  {
   "cell_type": "code",
   "execution_count": 8,
   "id": "df446414",
   "metadata": {
    "execution": {
     "iopub.execute_input": "2022-11-19T23:23:05.151688Z",
     "iopub.status.busy": "2022-11-19T23:23:05.151250Z",
     "iopub.status.idle": "2022-11-19T23:23:05.159019Z",
     "shell.execute_reply": "2022-11-19T23:23:05.158070Z"
    },
    "papermill": {
     "duration": 0.021573,
     "end_time": "2022-11-19T23:23:05.161430",
     "exception": false,
     "start_time": "2022-11-19T23:23:05.139857",
     "status": "completed"
    },
    "tags": []
   },
   "outputs": [],
   "source": [
    "rare_movies = comments_count[comments_count['title'] <= 1000].index"
   ]
  },
  {
   "cell_type": "markdown",
   "id": "747406cd",
   "metadata": {
    "papermill": {
     "duration": 0.009684,
     "end_time": "2022-11-19T23:23:05.181047",
     "exception": false,
     "start_time": "2022-11-19T23:23:05.171363",
     "status": "completed"
    },
    "tags": []
   },
   "source": [
    "### Removing the rare movies from the dataframe and thus the new dataframe is named 'common_movies'"
   ]
  },
  {
   "cell_type": "code",
   "execution_count": 9,
   "id": "d31f3a8f",
   "metadata": {
    "execution": {
     "iopub.execute_input": "2022-11-19T23:23:05.202772Z",
     "iopub.status.busy": "2022-11-19T23:23:05.202327Z",
     "iopub.status.idle": "2022-11-19T23:23:08.101841Z",
     "shell.execute_reply": "2022-11-19T23:23:08.100676Z"
    },
    "papermill": {
     "duration": 2.913625,
     "end_time": "2022-11-19T23:23:08.104613",
     "exception": false,
     "start_time": "2022-11-19T23:23:05.190988",
     "status": "completed"
    },
    "tags": []
   },
   "outputs": [],
   "source": [
    "common_movies = df[~df['title'].isin(rare_movies)]"
   ]
  },
  {
   "cell_type": "code",
   "execution_count": 10,
   "id": "ae80f059",
   "metadata": {
    "execution": {
     "iopub.execute_input": "2022-11-19T23:23:08.126934Z",
     "iopub.status.busy": "2022-11-19T23:23:08.126559Z",
     "iopub.status.idle": "2022-11-19T23:23:08.133006Z",
     "shell.execute_reply": "2022-11-19T23:23:08.131946Z"
    },
    "papermill": {
     "duration": 0.020536,
     "end_time": "2022-11-19T23:23:08.135433",
     "exception": false,
     "start_time": "2022-11-19T23:23:08.114897",
     "status": "completed"
    },
    "tags": []
   },
   "outputs": [
    {
     "data": {
      "text/plain": [
       "(17766015, 6)"
      ]
     },
     "execution_count": 10,
     "metadata": {},
     "output_type": "execute_result"
    }
   ],
   "source": [
    "common_movies.shape"
   ]
  },
  {
   "cell_type": "markdown",
   "id": "f0377b22",
   "metadata": {
    "papermill": {
     "duration": 0.009993,
     "end_time": "2022-11-19T23:23:08.156034",
     "exception": false,
     "start_time": "2022-11-19T23:23:08.146041",
     "status": "completed"
    },
    "tags": []
   },
   "source": [
    "### Thus, about 3 million movies were removed from the dataframe. Subsequently, we check the number of unique movies again. While approximately 18 million points were given to 3000 films, 3 billion points were given to approximately 24 thousand films. points have been given. Therefore, this process is so logical."
   ]
  },
  {
   "cell_type": "code",
   "execution_count": 11,
   "id": "7f1451d3",
   "metadata": {
    "execution": {
     "iopub.execute_input": "2022-11-19T23:23:08.178932Z",
     "iopub.status.busy": "2022-11-19T23:23:08.178520Z",
     "iopub.status.idle": "2022-11-19T23:23:09.819894Z",
     "shell.execute_reply": "2022-11-19T23:23:09.818812Z"
    },
    "papermill": {
     "duration": 1.655798,
     "end_time": "2022-11-19T23:23:09.822438",
     "exception": false,
     "start_time": "2022-11-19T23:23:08.166640",
     "status": "completed"
    },
    "tags": []
   },
   "outputs": [
    {
     "data": {
      "text/plain": [
       "3159"
      ]
     },
     "execution_count": 11,
     "metadata": {},
     "output_type": "execute_result"
    }
   ],
   "source": [
    "common_movies.title.nunique()"
   ]
  },
  {
   "cell_type": "markdown",
   "id": "0e05f4c2",
   "metadata": {
    "papermill": {
     "duration": 0.010414,
     "end_time": "2022-11-19T23:23:09.843431",
     "exception": false,
     "start_time": "2022-11-19T23:23:09.833017",
     "status": "completed"
    },
    "tags": []
   },
   "source": [
    "### So, the movie number was reduced from about 27000 to 3159 through the above processes"
   ]
  },
  {
   "cell_type": "markdown",
   "id": "e94f63a4",
   "metadata": {
    "papermill": {
     "duration": 0.010224,
     "end_time": "2022-11-19T23:23:09.864062",
     "exception": false,
     "start_time": "2022-11-19T23:23:09.853838",
     "status": "completed"
    },
    "tags": []
   },
   "source": [
    "### Now we can create the user_movie_df using the method 'pivot_table'. In this process, userids are in the observations and movie titles are in the variables and at the intersection of these two there are ratings."
   ]
  },
  {
   "cell_type": "code",
   "execution_count": 12,
   "id": "281a742f",
   "metadata": {
    "execution": {
     "iopub.execute_input": "2022-11-19T23:23:09.886705Z",
     "iopub.status.busy": "2022-11-19T23:23:09.886261Z",
     "iopub.status.idle": "2022-11-19T23:23:53.688404Z",
     "shell.execute_reply": "2022-11-19T23:23:53.685887Z"
    },
    "papermill": {
     "duration": 43.831818,
     "end_time": "2022-11-19T23:23:53.706268",
     "exception": false,
     "start_time": "2022-11-19T23:23:09.874450",
     "status": "completed"
    },
    "tags": []
   },
   "outputs": [
    {
     "data": {
      "text/plain": [
       "(138493, 3159)"
      ]
     },
     "execution_count": 12,
     "metadata": {},
     "output_type": "execute_result"
    }
   ],
   "source": [
    "user_movie_df = common_movies.pivot_table(index=['userid'], columns=['title'], values='rating')\n",
    "user_movie_df.shape"
   ]
  },
  {
   "cell_type": "markdown",
   "id": "83676586",
   "metadata": {
    "papermill": {
     "duration": 0.010669,
     "end_time": "2022-11-19T23:23:53.727556",
     "exception": false,
     "start_time": "2022-11-19T23:23:53.716887",
     "status": "completed"
    },
    "tags": []
   },
   "source": [
    "### So, there are 138493 abservations that occurred userids and 3159 variables that occurred movie titles."
   ]
  },
  {
   "cell_type": "markdown",
   "id": "a8220aa2",
   "metadata": {
    "papermill": {
     "duration": 0.010798,
     "end_time": "2022-11-19T23:23:53.749310",
     "exception": false,
     "start_time": "2022-11-19T23:23:53.738512",
     "status": "completed"
    },
    "tags": []
   },
   "source": [
    "# Making Item-based Movie Recommendation\n",
    "\n",
    "### Here, when we examine the correlations between a movie and other movies, as if looking at the correlation between two variables, we actually find the similarities of the movies."
   ]
  },
  {
   "cell_type": "code",
   "execution_count": 13,
   "id": "c11754af",
   "metadata": {
    "execution": {
     "iopub.execute_input": "2022-11-19T23:23:53.774822Z",
     "iopub.status.busy": "2022-11-19T23:23:53.774082Z",
     "iopub.status.idle": "2022-11-19T23:23:53.785051Z",
     "shell.execute_reply": "2022-11-19T23:23:53.783616Z"
    },
    "papermill": {
     "duration": 0.027873,
     "end_time": "2022-11-19T23:23:53.787856",
     "exception": false,
     "start_time": "2022-11-19T23:23:53.759983",
     "status": "completed"
    },
    "tags": []
   },
   "outputs": [],
   "source": [
    "movie_name = 'Matrix, The (1999)'\n",
    "movie_name = user_movie_df[movie_name]"
   ]
  },
  {
   "cell_type": "markdown",
   "id": "ba8edd04",
   "metadata": {
    "papermill": {
     "duration": 0.010545,
     "end_time": "2022-11-19T23:23:53.808990",
     "exception": false,
     "start_time": "2022-11-19T23:23:53.798445",
     "status": "completed"
    },
    "tags": []
   },
   "source": [
    "### Let's find the correlation between this selected movie and other movies"
   ]
  },
  {
   "cell_type": "code",
   "execution_count": 14,
   "id": "7008f473",
   "metadata": {
    "execution": {
     "iopub.execute_input": "2022-11-19T23:23:53.832859Z",
     "iopub.status.busy": "2022-11-19T23:23:53.832265Z",
     "iopub.status.idle": "2022-11-19T23:23:57.039853Z",
     "shell.execute_reply": "2022-11-19T23:23:57.038577Z"
    },
    "papermill": {
     "duration": 3.222994,
     "end_time": "2022-11-19T23:23:57.042533",
     "exception": false,
     "start_time": "2022-11-19T23:23:53.819539",
     "status": "completed"
    },
    "tags": []
   },
   "outputs": [
    {
     "data": {
      "text/plain": [
       "title\n",
       "Matrix, The (1999)                                           1.000000\n",
       "Matrix Reloaded, The (2003)                                  0.516906\n",
       "Matrix Revolutions, The (2003)                               0.449588\n",
       "Animatrix, The (2003)                                        0.367151\n",
       "Blade (1998)                                                 0.334493\n",
       "Terminator 2: Judgment Day (1991)                            0.333882\n",
       "Minority Report (2002)                                       0.332434\n",
       "Edge of Tomorrow (2014)                                      0.326762\n",
       "Mission: Impossible (1996)                                   0.320815\n",
       "Lord of the Rings: The Fellowship of the Ring, The (2001)    0.318726\n",
       "dtype: float64"
      ]
     },
     "execution_count": 14,
     "metadata": {},
     "output_type": "execute_result"
    }
   ],
   "source": [
    "user_movie_df.corrwith(movie_name).sort_values(ascending=False).head(10)"
   ]
  },
  {
   "cell_type": "markdown",
   "id": "3b1050bd",
   "metadata": {
    "papermill": {
     "duration": 0.010145,
     "end_time": "2022-11-19T23:23:57.063188",
     "exception": false,
     "start_time": "2022-11-19T23:23:57.053043",
     "status": "completed"
    },
    "tags": []
   },
   "source": [
    "### The results obtained here are invaluable. Here, the proposal was enriched and the consensus of a large community was taken behind it. Thus, collaborative filtering was accomplished."
   ]
  },
  {
   "cell_type": "markdown",
   "id": "75ef88cf",
   "metadata": {
    "papermill": {
     "duration": 0.010033,
     "end_time": "2022-11-19T23:23:57.083718",
     "exception": false,
     "start_time": "2022-11-19T23:23:57.073685",
     "status": "completed"
    },
    "tags": []
   },
   "source": [
    "### Let's take another movie"
   ]
  },
  {
   "cell_type": "code",
   "execution_count": 15,
   "id": "05e84cbc",
   "metadata": {
    "execution": {
     "iopub.execute_input": "2022-11-19T23:23:57.106809Z",
     "iopub.status.busy": "2022-11-19T23:23:57.105662Z",
     "iopub.status.idle": "2022-11-19T23:23:57.111393Z",
     "shell.execute_reply": "2022-11-19T23:23:57.110459Z"
    },
    "papermill": {
     "duration": 0.019504,
     "end_time": "2022-11-19T23:23:57.113575",
     "exception": false,
     "start_time": "2022-11-19T23:23:57.094071",
     "status": "completed"
    },
    "tags": []
   },
   "outputs": [],
   "source": [
    "movie_name = \"Ocean's Twelve (2004)\"\n",
    "movie_name = user_movie_df[movie_name]"
   ]
  },
  {
   "cell_type": "code",
   "execution_count": 16,
   "id": "9587740a",
   "metadata": {
    "execution": {
     "iopub.execute_input": "2022-11-19T23:23:57.136118Z",
     "iopub.status.busy": "2022-11-19T23:23:57.135414Z",
     "iopub.status.idle": "2022-11-19T23:23:59.444557Z",
     "shell.execute_reply": "2022-11-19T23:23:59.443361Z"
    },
    "papermill": {
     "duration": 2.32339,
     "end_time": "2022-11-19T23:23:59.447267",
     "exception": false,
     "start_time": "2022-11-19T23:23:57.123877",
     "status": "completed"
    },
    "tags": []
   },
   "outputs": [
    {
     "data": {
      "text/plain": [
       "title\n",
       "Ocean's Twelve (2004)                                 1.000000\n",
       "Ocean's Thirteen (2007)                               0.681654\n",
       "Ocean's Eleven (2001)                                 0.551280\n",
       "Eddie (1996)                                          0.474808\n",
       "National Treasure: Book of Secrets (2007)             0.474230\n",
       "Eagle Eye (2008)                                      0.473061\n",
       "Pirates of the Caribbean: On Stranger Tides (2011)    0.472446\n",
       "Ocean's Eleven (a.k.a. Ocean's 11) (1960)             0.470412\n",
       "Analyze That (2002)                                   0.459010\n",
       "Bad Boys II (2003)                                    0.458827\n",
       "dtype: float64"
      ]
     },
     "execution_count": 16,
     "metadata": {},
     "output_type": "execute_result"
    }
   ],
   "source": [
    "user_movie_df.corrwith(movie_name).sort_values(ascending=False).head(10)"
   ]
  },
  {
   "cell_type": "markdown",
   "id": "b39ff6d8",
   "metadata": {
    "papermill": {
     "duration": 0.010884,
     "end_time": "2022-11-19T23:23:59.469365",
     "exception": false,
     "start_time": "2022-11-19T23:23:59.458481",
     "status": "completed"
    },
    "tags": []
   },
   "source": [
    "### Let's choose a random movie from the data set and make suggestions"
   ]
  },
  {
   "cell_type": "code",
   "execution_count": 17,
   "id": "7e9a22e1",
   "metadata": {
    "execution": {
     "iopub.execute_input": "2022-11-19T23:23:59.492587Z",
     "iopub.status.busy": "2022-11-19T23:23:59.491900Z",
     "iopub.status.idle": "2022-11-19T23:24:01.830547Z",
     "shell.execute_reply": "2022-11-19T23:24:01.829424Z"
    },
    "papermill": {
     "duration": 2.353123,
     "end_time": "2022-11-19T23:24:01.832912",
     "exception": false,
     "start_time": "2022-11-19T23:23:59.479789",
     "status": "completed"
    },
    "tags": []
   },
   "outputs": [
    {
     "data": {
      "text/plain": [
       "title\n",
       "Brady Bunch Movie, The (1995)                   1.000000\n",
       "Very Brady Sequel, A (1996)                     0.779913\n",
       "Stuck on You (2003)                             0.433953\n",
       "Adventures of Tintin, The (2011)                0.433164\n",
       "Spy Kids 2: The Island of Lost Dreams (2002)    0.432114\n",
       "Flipper (1996)                                  0.417800\n",
       "Spy Kids (2001)                                 0.414020\n",
       "Beethoven (1992)                                0.409241\n",
       "Kindergarten Cop (1990)                         0.407017\n",
       "Hot Chick, The (2002)                           0.403465\n",
       "dtype: float64"
      ]
     },
     "execution_count": 17,
     "metadata": {},
     "output_type": "execute_result"
    }
   ],
   "source": [
    "movie_name = pd.Series(user_movie_df.columns).sample(1).values[0]\n",
    "movie_name = user_movie_df[movie_name]\n",
    "user_movie_df.corrwith(movie_name).sort_values(ascending=False).head(10)"
   ]
  },
  {
   "cell_type": "markdown",
   "id": "88a87344",
   "metadata": {
    "papermill": {
     "duration": 0.010347,
     "end_time": "2022-11-19T23:24:01.853903",
     "exception": false,
     "start_time": "2022-11-19T23:24:01.843556",
     "status": "completed"
    },
    "tags": []
   },
   "source": [
    "### The selected movie name was 'Flirting With Disaster (1996)'"
   ]
  },
  {
   "cell_type": "markdown",
   "id": "fa6941dc",
   "metadata": {
    "papermill": {
     "duration": 0.010216,
     "end_time": "2022-11-19T23:24:01.874776",
     "exception": false,
     "start_time": "2022-11-19T23:24:01.864560",
     "status": "completed"
    },
    "tags": []
   },
   "source": [
    "### Let's fetch movies that contain any keyword"
   ]
  },
  {
   "cell_type": "code",
   "execution_count": 18,
   "id": "735e9db5",
   "metadata": {
    "execution": {
     "iopub.execute_input": "2022-11-19T23:24:01.898096Z",
     "iopub.status.busy": "2022-11-19T23:24:01.897436Z",
     "iopub.status.idle": "2022-11-19T23:24:01.902883Z",
     "shell.execute_reply": "2022-11-19T23:24:01.902067Z"
    },
    "papermill": {
     "duration": 0.019816,
     "end_time": "2022-11-19T23:24:01.905141",
     "exception": false,
     "start_time": "2022-11-19T23:24:01.885325",
     "status": "completed"
    },
    "tags": []
   },
   "outputs": [],
   "source": [
    "def check_film(dataframe, keyword):\n",
    "    return [col for col in dataframe.columns if keyword in col]"
   ]
  },
  {
   "cell_type": "markdown",
   "id": "c4c24333",
   "metadata": {
    "papermill": {
     "duration": 0.010281,
     "end_time": "2022-11-19T23:24:01.926060",
     "exception": false,
     "start_time": "2022-11-19T23:24:01.915779",
     "status": "completed"
    },
    "tags": []
   },
   "source": [
    "### For example, let's bring movies containing the word 'Sherlock'"
   ]
  },
  {
   "cell_type": "code",
   "execution_count": 19,
   "id": "1437a7e0",
   "metadata": {
    "execution": {
     "iopub.execute_input": "2022-11-19T23:24:01.949539Z",
     "iopub.status.busy": "2022-11-19T23:24:01.948853Z",
     "iopub.status.idle": "2022-11-19T23:24:01.956898Z",
     "shell.execute_reply": "2022-11-19T23:24:01.955826Z"
    },
    "papermill": {
     "duration": 0.022498,
     "end_time": "2022-11-19T23:24:01.959103",
     "exception": false,
     "start_time": "2022-11-19T23:24:01.936605",
     "status": "completed"
    },
    "tags": []
   },
   "outputs": [
    {
     "data": {
      "text/plain": [
       "['Sherlock Holmes (2009)',\n",
       " 'Sherlock Holmes: A Game of Shadows (2011)',\n",
       " 'Young Sherlock Holmes (1985)']"
      ]
     },
     "execution_count": 19,
     "metadata": {},
     "output_type": "execute_result"
    }
   ],
   "source": [
    "check_film(user_movie_df, 'Sherlock')"
   ]
  },
  {
   "cell_type": "markdown",
   "id": "a5d3833f",
   "metadata": {
    "papermill": {
     "duration": 0.010793,
     "end_time": "2022-11-19T23:24:01.980662",
     "exception": false,
     "start_time": "2022-11-19T23:24:01.969869",
     "status": "completed"
    },
    "tags": []
   },
   "source": [
    "### Now, let's bring movies containing the word 'Insomnia'"
   ]
  },
  {
   "cell_type": "code",
   "execution_count": 20,
   "id": "703f8841",
   "metadata": {
    "execution": {
     "iopub.execute_input": "2022-11-19T23:24:02.005293Z",
     "iopub.status.busy": "2022-11-19T23:24:02.004598Z",
     "iopub.status.idle": "2022-11-19T23:24:02.012924Z",
     "shell.execute_reply": "2022-11-19T23:24:02.011673Z"
    },
    "papermill": {
     "duration": 0.023289,
     "end_time": "2022-11-19T23:24:02.015305",
     "exception": false,
     "start_time": "2022-11-19T23:24:01.992016",
     "status": "completed"
    },
    "tags": []
   },
   "outputs": [
    {
     "data": {
      "text/plain": [
       "['Insomnia (1997)', 'Insomnia (2002)']"
      ]
     },
     "execution_count": 20,
     "metadata": {},
     "output_type": "execute_result"
    }
   ],
   "source": [
    "check_film(user_movie_df, 'Insomnia')"
   ]
  },
  {
   "cell_type": "markdown",
   "id": "b1bda72b",
   "metadata": {
    "papermill": {
     "duration": 0.010565,
     "end_time": "2022-11-19T23:24:02.036779",
     "exception": false,
     "start_time": "2022-11-19T23:24:02.026214",
     "status": "completed"
    },
    "tags": []
   },
   "source": [
    "### Now, let's bring movies containing the word 'Spider'"
   ]
  },
  {
   "cell_type": "code",
   "execution_count": 21,
   "id": "e0d78322",
   "metadata": {
    "execution": {
     "iopub.execute_input": "2022-11-19T23:24:02.061083Z",
     "iopub.status.busy": "2022-11-19T23:24:02.060414Z",
     "iopub.status.idle": "2022-11-19T23:24:02.068524Z",
     "shell.execute_reply": "2022-11-19T23:24:02.067437Z"
    },
    "papermill": {
     "duration": 0.023003,
     "end_time": "2022-11-19T23:24:02.070824",
     "exception": false,
     "start_time": "2022-11-19T23:24:02.047821",
     "status": "completed"
    },
    "tags": []
   },
   "outputs": [
    {
     "data": {
      "text/plain": [
       "['Along Came a Spider (2001)',\n",
       " 'Amazing Spider-Man, The (2012)',\n",
       " 'Spider (2002)',\n",
       " 'Spider-Man (2002)',\n",
       " 'Spider-Man 2 (2004)',\n",
       " 'Spider-Man 3 (2007)']"
      ]
     },
     "execution_count": 21,
     "metadata": {},
     "output_type": "execute_result"
    }
   ],
   "source": [
    "check_film(user_movie_df, 'Spider')"
   ]
  },
  {
   "cell_type": "markdown",
   "id": "a87b0493",
   "metadata": {
    "papermill": {
     "duration": 0.010669,
     "end_time": "2022-11-19T23:24:02.092538",
     "exception": false,
     "start_time": "2022-11-19T23:24:02.081869",
     "status": "completed"
    },
    "tags": []
   },
   "source": [
    "# Thank you very much for checking my notebook!"
   ]
  }
 ],
 "metadata": {
  "kernelspec": {
   "display_name": "Python 3",
   "language": "python",
   "name": "python3"
  },
  "language_info": {
   "codemirror_mode": {
    "name": "ipython",
    "version": 3
   },
   "file_extension": ".py",
   "mimetype": "text/x-python",
   "name": "python",
   "nbconvert_exporter": "python",
   "pygments_lexer": "ipython3",
   "version": "3.7.12"
  },
  "papermill": {
   "default_parameters": {},
   "duration": 112.349392,
   "end_time": "2022-11-19T23:24:04.827107",
   "environment_variables": {},
   "exception": null,
   "input_path": "__notebook__.ipynb",
   "output_path": "__notebook__.ipynb",
   "parameters": {},
   "start_time": "2022-11-19T23:22:12.477715",
   "version": "2.3.4"
  }
 },
 "nbformat": 4,
 "nbformat_minor": 5
}
