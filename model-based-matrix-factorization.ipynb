{
 "cells": [
  {
   "cell_type": "markdown",
   "id": "ab43582c",
   "metadata": {
    "papermill": {
     "duration": 0.00863,
     "end_time": "2022-11-21T00:37:07.244785",
     "exception": false,
     "start_time": "2022-11-21T00:37:07.236155",
     "status": "completed"
    },
    "tags": []
   },
   "source": [
    "# Developing a Prediction-Based Recommendation System using Model-Based Matrix Factorization\n",
    "\n",
    "# Dataset story\n",
    "\n",
    "### The data set is provided by the mobile lens, it contains the movies and the scores given to these movies. The dataset contains more than 20000000 ratings for approximately 27000 movies per hour.\n",
    "\n",
    "# Variables\n",
    "\n",
    "### There are many different tables in this dataset, but there are 2 CSV files to use.\n",
    "\n",
    "#### movie.csv\n",
    "* movieId - Unique movie number\n",
    "* title - movie name\n",
    "\n",
    "#### rating.csv\n",
    "* userid - Unique user number\n",
    "* movieId - Unique movie number\n",
    "* rating - the rating given to the movie by the user\n",
    "* timestamp - review date"
   ]
  },
  {
   "cell_type": "markdown",
   "id": "99c5dc08",
   "metadata": {
    "papermill": {
     "duration": 0.007124,
     "end_time": "2022-11-21T00:37:07.259383",
     "exception": false,
     "start_time": "2022-11-21T00:37:07.252259",
     "status": "completed"
    },
    "tags": []
   },
   "source": [
    "# Importing the libraries"
   ]
  },
  {
   "cell_type": "code",
   "execution_count": 1,
   "id": "96e7a289",
   "metadata": {
    "_cell_guid": "b1076dfc-b9ad-4769-8c92-a6c4dae69d19",
    "_uuid": "8f2839f25d086af736a60e9eeb907d3b93b6e0e5",
    "execution": {
     "iopub.execute_input": "2022-11-21T00:37:07.276538Z",
     "iopub.status.busy": "2022-11-21T00:37:07.275882Z",
     "iopub.status.idle": "2022-11-21T00:37:07.393736Z",
     "shell.execute_reply": "2022-11-21T00:37:07.392580Z"
    },
    "papermill": {
     "duration": 0.129337,
     "end_time": "2022-11-21T00:37:07.396212",
     "exception": false,
     "start_time": "2022-11-21T00:37:07.266875",
     "status": "completed"
    },
    "tags": []
   },
   "outputs": [],
   "source": [
    "import pandas as pd\n",
    "from surprise import Reader, SVD, Dataset, accuracy\n",
    "from surprise.model_selection import train_test_split, GridSearchCV, cross_validate\n",
    "pd.set_option('display.max_columns', None)"
   ]
  },
  {
   "cell_type": "markdown",
   "id": "f5e2e6e6",
   "metadata": {
    "papermill": {
     "duration": 0.007118,
     "end_time": "2022-11-21T00:37:07.411001",
     "exception": false,
     "start_time": "2022-11-21T00:37:07.403883",
     "status": "completed"
    },
    "tags": []
   },
   "source": [
    "# Reading and combining the dataset"
   ]
  },
  {
   "cell_type": "code",
   "execution_count": 2,
   "id": "66c83313",
   "metadata": {
    "execution": {
     "iopub.execute_input": "2022-11-21T00:37:07.428637Z",
     "iopub.status.busy": "2022-11-21T00:37:07.428236Z",
     "iopub.status.idle": "2022-11-21T00:37:34.243047Z",
     "shell.execute_reply": "2022-11-21T00:37:34.241688Z"
    },
    "papermill": {
     "duration": 26.825438,
     "end_time": "2022-11-21T00:37:34.245064",
     "exception": false,
     "start_time": "2022-11-21T00:37:07.419626",
     "status": "completed"
    },
    "tags": []
   },
   "outputs": [
    {
     "data": {
      "text/html": [
       "<div>\n",
       "<style scoped>\n",
       "    .dataframe tbody tr th:only-of-type {\n",
       "        vertical-align: middle;\n",
       "    }\n",
       "\n",
       "    .dataframe tbody tr th {\n",
       "        vertical-align: top;\n",
       "    }\n",
       "\n",
       "    .dataframe thead th {\n",
       "        text-align: right;\n",
       "    }\n",
       "</style>\n",
       "<table border=\"1\" class=\"dataframe\">\n",
       "  <thead>\n",
       "    <tr style=\"text-align: right;\">\n",
       "      <th></th>\n",
       "      <th>movieId</th>\n",
       "      <th>title</th>\n",
       "      <th>genres</th>\n",
       "      <th>userId</th>\n",
       "      <th>rating</th>\n",
       "      <th>timestamp</th>\n",
       "    </tr>\n",
       "  </thead>\n",
       "  <tbody>\n",
       "    <tr>\n",
       "      <th>0</th>\n",
       "      <td>1</td>\n",
       "      <td>Toy Story (1995)</td>\n",
       "      <td>Adventure|Animation|Children|Comedy|Fantasy</td>\n",
       "      <td>3.0</td>\n",
       "      <td>4.0</td>\n",
       "      <td>1999-12-11 13:36:47</td>\n",
       "    </tr>\n",
       "    <tr>\n",
       "      <th>1</th>\n",
       "      <td>1</td>\n",
       "      <td>Toy Story (1995)</td>\n",
       "      <td>Adventure|Animation|Children|Comedy|Fantasy</td>\n",
       "      <td>6.0</td>\n",
       "      <td>5.0</td>\n",
       "      <td>1997-03-13 17:50:52</td>\n",
       "    </tr>\n",
       "    <tr>\n",
       "      <th>2</th>\n",
       "      <td>1</td>\n",
       "      <td>Toy Story (1995)</td>\n",
       "      <td>Adventure|Animation|Children|Comedy|Fantasy</td>\n",
       "      <td>8.0</td>\n",
       "      <td>4.0</td>\n",
       "      <td>1996-06-05 13:37:51</td>\n",
       "    </tr>\n",
       "    <tr>\n",
       "      <th>3</th>\n",
       "      <td>1</td>\n",
       "      <td>Toy Story (1995)</td>\n",
       "      <td>Adventure|Animation|Children|Comedy|Fantasy</td>\n",
       "      <td>10.0</td>\n",
       "      <td>4.0</td>\n",
       "      <td>1999-11-25 02:44:47</td>\n",
       "    </tr>\n",
       "    <tr>\n",
       "      <th>4</th>\n",
       "      <td>1</td>\n",
       "      <td>Toy Story (1995)</td>\n",
       "      <td>Adventure|Animation|Children|Comedy|Fantasy</td>\n",
       "      <td>11.0</td>\n",
       "      <td>4.5</td>\n",
       "      <td>2009-01-02 01:13:41</td>\n",
       "    </tr>\n",
       "  </tbody>\n",
       "</table>\n",
       "</div>"
      ],
      "text/plain": [
       "   movieId             title                                       genres  \\\n",
       "0        1  Toy Story (1995)  Adventure|Animation|Children|Comedy|Fantasy   \n",
       "1        1  Toy Story (1995)  Adventure|Animation|Children|Comedy|Fantasy   \n",
       "2        1  Toy Story (1995)  Adventure|Animation|Children|Comedy|Fantasy   \n",
       "3        1  Toy Story (1995)  Adventure|Animation|Children|Comedy|Fantasy   \n",
       "4        1  Toy Story (1995)  Adventure|Animation|Children|Comedy|Fantasy   \n",
       "\n",
       "   userId  rating            timestamp  \n",
       "0     3.0     4.0  1999-12-11 13:36:47  \n",
       "1     6.0     5.0  1997-03-13 17:50:52  \n",
       "2     8.0     4.0  1996-06-05 13:37:51  \n",
       "3    10.0     4.0  1999-11-25 02:44:47  \n",
       "4    11.0     4.5  2009-01-02 01:13:41  "
      ]
     },
     "execution_count": 2,
     "metadata": {},
     "output_type": "execute_result"
    }
   ],
   "source": [
    "movie = pd.read_csv('/kaggle/input/movies-ratings/movie.csv')\n",
    "rating = pd.read_csv('/kaggle/input/movies-ratings/rating.csv')\n",
    "df = movie.merge(rating, how='left', on='movieId')\n",
    "df.head()"
   ]
  },
  {
   "cell_type": "markdown",
   "id": "9987795d",
   "metadata": {
    "papermill": {
     "duration": 0.007407,
     "end_time": "2022-11-21T00:37:34.260308",
     "exception": false,
     "start_time": "2022-11-21T00:37:34.252901",
     "status": "completed"
    },
    "tags": []
   },
   "source": [
    "# Data preparation"
   ]
  },
  {
   "cell_type": "markdown",
   "id": "a83df2e7",
   "metadata": {
    "papermill": {
     "duration": 0.007286,
     "end_time": "2022-11-21T00:37:34.275113",
     "exception": false,
     "start_time": "2022-11-21T00:37:34.267827",
     "status": "completed"
    },
    "tags": []
   },
   "source": [
    "### Let's bring 4 movie ids to 4 movies in terms of traceability"
   ]
  },
  {
   "cell_type": "code",
   "execution_count": 3,
   "id": "a4543b77",
   "metadata": {
    "execution": {
     "iopub.execute_input": "2022-11-21T00:37:34.292158Z",
     "iopub.status.busy": "2022-11-21T00:37:34.291772Z",
     "iopub.status.idle": "2022-11-21T00:37:34.297161Z",
     "shell.execute_reply": "2022-11-21T00:37:34.295795Z"
    },
    "papermill": {
     "duration": 0.016799,
     "end_time": "2022-11-21T00:37:34.299506",
     "exception": false,
     "start_time": "2022-11-21T00:37:34.282707",
     "status": "completed"
    },
    "tags": []
   },
   "outputs": [],
   "source": [
    "movie_ids = [130219, 356, 4422, 541]\n",
    "movies = [\"The Dark Knight (2011)\",\n",
    "          \"Cries and Whispers (Viskningar och rop) (1972)\",\n",
    "          \"Forrest Gump (1994)\",\n",
    "          \"Blade Runner (1982)\"]"
   ]
  },
  {
   "cell_type": "markdown",
   "id": "ba662b79",
   "metadata": {
    "papermill": {
     "duration": 0.007658,
     "end_time": "2022-11-21T00:37:34.315252",
     "exception": false,
     "start_time": "2022-11-21T00:37:34.307594",
     "status": "completed"
    },
    "tags": []
   },
   "source": [
    "### Let's reduce all dataset according to those movies"
   ]
  },
  {
   "cell_type": "code",
   "execution_count": 4,
   "id": "8600772e",
   "metadata": {
    "execution": {
     "iopub.execute_input": "2022-11-21T00:37:34.332545Z",
     "iopub.status.busy": "2022-11-21T00:37:34.332204Z",
     "iopub.status.idle": "2022-11-21T00:37:36.112577Z",
     "shell.execute_reply": "2022-11-21T00:37:36.111689Z"
    },
    "papermill": {
     "duration": 1.791901,
     "end_time": "2022-11-21T00:37:36.115251",
     "exception": false,
     "start_time": "2022-11-21T00:37:34.323350",
     "status": "completed"
    },
    "tags": []
   },
   "outputs": [
    {
     "data": {
      "text/html": [
       "<div>\n",
       "<style scoped>\n",
       "    .dataframe tbody tr th:only-of-type {\n",
       "        vertical-align: middle;\n",
       "    }\n",
       "\n",
       "    .dataframe tbody tr th {\n",
       "        vertical-align: top;\n",
       "    }\n",
       "\n",
       "    .dataframe thead th {\n",
       "        text-align: right;\n",
       "    }\n",
       "</style>\n",
       "<table border=\"1\" class=\"dataframe\">\n",
       "  <thead>\n",
       "    <tr style=\"text-align: right;\">\n",
       "      <th></th>\n",
       "      <th>movieId</th>\n",
       "      <th>title</th>\n",
       "      <th>genres</th>\n",
       "      <th>userId</th>\n",
       "      <th>rating</th>\n",
       "      <th>timestamp</th>\n",
       "    </tr>\n",
       "  </thead>\n",
       "  <tbody>\n",
       "    <tr>\n",
       "      <th>2457839</th>\n",
       "      <td>356</td>\n",
       "      <td>Forrest Gump (1994)</td>\n",
       "      <td>Comedy|Drama|Romance|War</td>\n",
       "      <td>4.0</td>\n",
       "      <td>4.0</td>\n",
       "      <td>1996-08-24 09:28:42</td>\n",
       "    </tr>\n",
       "    <tr>\n",
       "      <th>2457840</th>\n",
       "      <td>356</td>\n",
       "      <td>Forrest Gump (1994)</td>\n",
       "      <td>Comedy|Drama|Romance|War</td>\n",
       "      <td>7.0</td>\n",
       "      <td>4.0</td>\n",
       "      <td>2002-01-16 19:02:55</td>\n",
       "    </tr>\n",
       "    <tr>\n",
       "      <th>2457841</th>\n",
       "      <td>356</td>\n",
       "      <td>Forrest Gump (1994)</td>\n",
       "      <td>Comedy|Drama|Romance|War</td>\n",
       "      <td>8.0</td>\n",
       "      <td>5.0</td>\n",
       "      <td>1996-06-05 13:44:19</td>\n",
       "    </tr>\n",
       "    <tr>\n",
       "      <th>2457842</th>\n",
       "      <td>356</td>\n",
       "      <td>Forrest Gump (1994)</td>\n",
       "      <td>Comedy|Drama|Romance|War</td>\n",
       "      <td>9.0</td>\n",
       "      <td>4.0</td>\n",
       "      <td>2001-07-01 20:26:38</td>\n",
       "    </tr>\n",
       "    <tr>\n",
       "      <th>2457843</th>\n",
       "      <td>356</td>\n",
       "      <td>Forrest Gump (1994)</td>\n",
       "      <td>Comedy|Drama|Romance|War</td>\n",
       "      <td>10.0</td>\n",
       "      <td>3.0</td>\n",
       "      <td>1999-11-25 02:32:02</td>\n",
       "    </tr>\n",
       "  </tbody>\n",
       "</table>\n",
       "</div>"
      ],
      "text/plain": [
       "         movieId                title                    genres  userId  \\\n",
       "2457839      356  Forrest Gump (1994)  Comedy|Drama|Romance|War     4.0   \n",
       "2457840      356  Forrest Gump (1994)  Comedy|Drama|Romance|War     7.0   \n",
       "2457841      356  Forrest Gump (1994)  Comedy|Drama|Romance|War     8.0   \n",
       "2457842      356  Forrest Gump (1994)  Comedy|Drama|Romance|War     9.0   \n",
       "2457843      356  Forrest Gump (1994)  Comedy|Drama|Romance|War    10.0   \n",
       "\n",
       "         rating            timestamp  \n",
       "2457839     4.0  1996-08-24 09:28:42  \n",
       "2457840     4.0  2002-01-16 19:02:55  \n",
       "2457841     5.0  1996-06-05 13:44:19  \n",
       "2457842     4.0  2001-07-01 20:26:38  \n",
       "2457843     3.0  1999-11-25 02:32:02  "
      ]
     },
     "execution_count": 4,
     "metadata": {},
     "output_type": "execute_result"
    }
   ],
   "source": [
    "sample_df = df[df['movieId'].isin(movie_ids)]\n",
    "sample_df.head()"
   ]
  },
  {
   "cell_type": "code",
   "execution_count": 5,
   "id": "d6f24331",
   "metadata": {
    "execution": {
     "iopub.execute_input": "2022-11-21T00:37:36.133348Z",
     "iopub.status.busy": "2022-11-21T00:37:36.132794Z",
     "iopub.status.idle": "2022-11-21T00:37:36.138996Z",
     "shell.execute_reply": "2022-11-21T00:37:36.138061Z"
    },
    "papermill": {
     "duration": 0.018276,
     "end_time": "2022-11-21T00:37:36.141661",
     "exception": false,
     "start_time": "2022-11-21T00:37:36.123385",
     "status": "completed"
    },
    "tags": []
   },
   "outputs": [
    {
     "data": {
      "text/plain": [
       "(97343, 6)"
      ]
     },
     "execution_count": 5,
     "metadata": {},
     "output_type": "execute_result"
    }
   ],
   "source": [
    "sample_df.shape"
   ]
  },
  {
   "cell_type": "markdown",
   "id": "d0d49e3c",
   "metadata": {
    "papermill": {
     "duration": 0.007957,
     "end_time": "2022-11-21T00:37:36.158072",
     "exception": false,
     "start_time": "2022-11-21T00:37:36.150115",
     "status": "completed"
    },
    "tags": []
   },
   "source": [
    "### Let's create user_movie_df by using pivot_table"
   ]
  },
  {
   "cell_type": "code",
   "execution_count": 6,
   "id": "07d52eba",
   "metadata": {
    "execution": {
     "iopub.execute_input": "2022-11-21T00:37:36.175870Z",
     "iopub.status.busy": "2022-11-21T00:37:36.175501Z",
     "iopub.status.idle": "2022-11-21T00:37:36.269109Z",
     "shell.execute_reply": "2022-11-21T00:37:36.268084Z"
    },
    "papermill": {
     "duration": 0.105714,
     "end_time": "2022-11-21T00:37:36.271970",
     "exception": false,
     "start_time": "2022-11-21T00:37:36.166256",
     "status": "completed"
    },
    "tags": []
   },
   "outputs": [
    {
     "data": {
      "text/html": [
       "<div>\n",
       "<style scoped>\n",
       "    .dataframe tbody tr th:only-of-type {\n",
       "        vertical-align: middle;\n",
       "    }\n",
       "\n",
       "    .dataframe tbody tr th {\n",
       "        vertical-align: top;\n",
       "    }\n",
       "\n",
       "    .dataframe thead th {\n",
       "        text-align: right;\n",
       "    }\n",
       "</style>\n",
       "<table border=\"1\" class=\"dataframe\">\n",
       "  <thead>\n",
       "    <tr style=\"text-align: right;\">\n",
       "      <th>title</th>\n",
       "      <th>Blade Runner (1982)</th>\n",
       "      <th>Cries and Whispers (Viskningar och rop) (1972)</th>\n",
       "      <th>Forrest Gump (1994)</th>\n",
       "      <th>The Dark Knight (2011)</th>\n",
       "    </tr>\n",
       "    <tr>\n",
       "      <th>userId</th>\n",
       "      <th></th>\n",
       "      <th></th>\n",
       "      <th></th>\n",
       "      <th></th>\n",
       "    </tr>\n",
       "  </thead>\n",
       "  <tbody>\n",
       "    <tr>\n",
       "      <th>1.0</th>\n",
       "      <td>4.0</td>\n",
       "      <td>NaN</td>\n",
       "      <td>NaN</td>\n",
       "      <td>NaN</td>\n",
       "    </tr>\n",
       "    <tr>\n",
       "      <th>2.0</th>\n",
       "      <td>5.0</td>\n",
       "      <td>NaN</td>\n",
       "      <td>NaN</td>\n",
       "      <td>NaN</td>\n",
       "    </tr>\n",
       "    <tr>\n",
       "      <th>3.0</th>\n",
       "      <td>5.0</td>\n",
       "      <td>NaN</td>\n",
       "      <td>NaN</td>\n",
       "      <td>NaN</td>\n",
       "    </tr>\n",
       "    <tr>\n",
       "      <th>4.0</th>\n",
       "      <td>NaN</td>\n",
       "      <td>NaN</td>\n",
       "      <td>4.0</td>\n",
       "      <td>NaN</td>\n",
       "    </tr>\n",
       "    <tr>\n",
       "      <th>7.0</th>\n",
       "      <td>NaN</td>\n",
       "      <td>NaN</td>\n",
       "      <td>4.0</td>\n",
       "      <td>NaN</td>\n",
       "    </tr>\n",
       "  </tbody>\n",
       "</table>\n",
       "</div>"
      ],
      "text/plain": [
       "title   Blade Runner (1982)  Cries and Whispers (Viskningar och rop) (1972)  \\\n",
       "userId                                                                        \n",
       "1.0                     4.0                                             NaN   \n",
       "2.0                     5.0                                             NaN   \n",
       "3.0                     5.0                                             NaN   \n",
       "4.0                     NaN                                             NaN   \n",
       "7.0                     NaN                                             NaN   \n",
       "\n",
       "title   Forrest Gump (1994)  The Dark Knight (2011)  \n",
       "userId                                               \n",
       "1.0                     NaN                     NaN  \n",
       "2.0                     NaN                     NaN  \n",
       "3.0                     NaN                     NaN  \n",
       "4.0                     4.0                     NaN  \n",
       "7.0                     4.0                     NaN  "
      ]
     },
     "execution_count": 6,
     "metadata": {},
     "output_type": "execute_result"
    }
   ],
   "source": [
    "user_movie_df = sample_df.pivot_table(index='userId', columns=['title'], values='rating')\n",
    "user_movie_df.head()"
   ]
  },
  {
   "cell_type": "code",
   "execution_count": 7,
   "id": "9c309fc7",
   "metadata": {
    "execution": {
     "iopub.execute_input": "2022-11-21T00:37:36.290756Z",
     "iopub.status.busy": "2022-11-21T00:37:36.290376Z",
     "iopub.status.idle": "2022-11-21T00:37:36.297764Z",
     "shell.execute_reply": "2022-11-21T00:37:36.296504Z"
    },
    "papermill": {
     "duration": 0.019455,
     "end_time": "2022-11-21T00:37:36.300206",
     "exception": false,
     "start_time": "2022-11-21T00:37:36.280751",
     "status": "completed"
    },
    "tags": []
   },
   "outputs": [
    {
     "data": {
      "text/plain": [
       "(76918, 4)"
      ]
     },
     "execution_count": 7,
     "metadata": {},
     "output_type": "execute_result"
    }
   ],
   "source": [
    "user_movie_df.shape"
   ]
  },
  {
   "cell_type": "markdown",
   "id": "ffca9e0f",
   "metadata": {
    "papermill": {
     "duration": 0.008131,
     "end_time": "2022-11-21T00:37:36.316764",
     "exception": false,
     "start_time": "2022-11-21T00:37:36.308633",
     "status": "completed"
    },
    "tags": []
   },
   "source": [
    "### Let's give a scale number range for the variable rating and use 'Reader' method for this"
   ]
  },
  {
   "cell_type": "code",
   "execution_count": 8,
   "id": "1985de59",
   "metadata": {
    "execution": {
     "iopub.execute_input": "2022-11-21T00:37:36.335684Z",
     "iopub.status.busy": "2022-11-21T00:37:36.335275Z",
     "iopub.status.idle": "2022-11-21T00:37:36.341001Z",
     "shell.execute_reply": "2022-11-21T00:37:36.339829Z"
    },
    "papermill": {
     "duration": 0.018402,
     "end_time": "2022-11-21T00:37:36.343326",
     "exception": false,
     "start_time": "2022-11-21T00:37:36.324924",
     "status": "completed"
    },
    "tags": []
   },
   "outputs": [],
   "source": [
    "reader = Reader(rating_scale = (1, 5))"
   ]
  },
  {
   "cell_type": "markdown",
   "id": "5a2c615e",
   "metadata": {
    "papermill": {
     "duration": 0.008232,
     "end_time": "2022-11-21T00:37:36.360240",
     "exception": false,
     "start_time": "2022-11-21T00:37:36.352008",
     "status": "completed"
    },
    "tags": []
   },
   "source": [
    "### Now, let's adapt the used dataset according to the 'surprise' library"
   ]
  },
  {
   "cell_type": "code",
   "execution_count": 9,
   "id": "96a38a96",
   "metadata": {
    "execution": {
     "iopub.execute_input": "2022-11-21T00:37:36.379067Z",
     "iopub.status.busy": "2022-11-21T00:37:36.378423Z",
     "iopub.status.idle": "2022-11-21T00:37:36.490964Z",
     "shell.execute_reply": "2022-11-21T00:37:36.489082Z"
    },
    "papermill": {
     "duration": 0.125322,
     "end_time": "2022-11-21T00:37:36.494086",
     "exception": false,
     "start_time": "2022-11-21T00:37:36.368764",
     "status": "completed"
    },
    "tags": []
   },
   "outputs": [],
   "source": [
    "data = Dataset.load_from_df(sample_df[['userId', 'movieId', 'rating']], reader)"
   ]
  },
  {
   "cell_type": "markdown",
   "id": "03843508",
   "metadata": {
    "papermill": {
     "duration": 0.008123,
     "end_time": "2022-11-21T00:37:36.510765",
     "exception": false,
     "start_time": "2022-11-21T00:37:36.502642",
     "status": "completed"
    },
    "tags": []
   },
   "source": [
    "# Modeling\n",
    "\n",
    "### Let's create a model and get a train set to create the model and test set to test the model"
   ]
  },
  {
   "cell_type": "code",
   "execution_count": 10,
   "id": "8f882f6e",
   "metadata": {
    "execution": {
     "iopub.execute_input": "2022-11-21T00:37:36.529501Z",
     "iopub.status.busy": "2022-11-21T00:37:36.529087Z",
     "iopub.status.idle": "2022-11-21T00:37:41.429830Z",
     "shell.execute_reply": "2022-11-21T00:37:41.428397Z"
    },
    "papermill": {
     "duration": 4.913185,
     "end_time": "2022-11-21T00:37:41.432284",
     "exception": false,
     "start_time": "2022-11-21T00:37:36.519099",
     "status": "completed"
    },
    "tags": []
   },
   "outputs": [],
   "source": [
    "trainset, testset = train_test_split(data, test_size=0.25)\n",
    "svd_model = SVD().fit(trainset)         # bring the model object and establish the model\n",
    "predictions = svd_model.test(testset)   # predicting"
   ]
  },
  {
   "cell_type": "markdown",
   "id": "3640a7b9",
   "metadata": {
    "papermill": {
     "duration": 0.007878,
     "end_time": "2022-11-21T00:37:41.448632",
     "exception": false,
     "start_time": "2022-11-21T00:37:41.440754",
     "status": "completed"
    },
    "tags": []
   },
   "source": [
    "### Let's calculate the RMSE value"
   ]
  },
  {
   "cell_type": "code",
   "execution_count": 11,
   "id": "f5fbf2bf",
   "metadata": {
    "execution": {
     "iopub.execute_input": "2022-11-21T00:37:41.466794Z",
     "iopub.status.busy": "2022-11-21T00:37:41.466386Z",
     "iopub.status.idle": "2022-11-21T00:37:41.628549Z",
     "shell.execute_reply": "2022-11-21T00:37:41.627102Z"
    },
    "papermill": {
     "duration": 0.174238,
     "end_time": "2022-11-21T00:37:41.630879",
     "exception": false,
     "start_time": "2022-11-21T00:37:41.456641",
     "status": "completed"
    },
    "tags": []
   },
   "outputs": [
    {
     "name": "stdout",
     "output_type": "stream",
     "text": [
      "RMSE: 0.9411\n",
      "The RMSE value of the model is 0.941\n",
      "MAE:  0.7242\n",
      "The MAE value of the model is 0.724\n"
     ]
    }
   ],
   "source": [
    "print(f'The RMSE value of the model is {round(accuracy.rmse(predictions), 3)}')\n",
    "print(f'The MAE value of the model is {round(accuracy.mae(predictions), 3)}')"
   ]
  },
  {
   "cell_type": "markdown",
   "id": "b7b638ae",
   "metadata": {
    "papermill": {
     "duration": 0.008327,
     "end_time": "2022-11-21T00:37:41.648057",
     "exception": false,
     "start_time": "2022-11-21T00:37:41.639730",
     "status": "completed"
    },
    "tags": []
   },
   "source": [
    "### Let's predict for a special user"
   ]
  },
  {
   "cell_type": "code",
   "execution_count": 12,
   "id": "48d40757",
   "metadata": {
    "execution": {
     "iopub.execute_input": "2022-11-21T00:37:41.666985Z",
     "iopub.status.busy": "2022-11-21T00:37:41.666642Z",
     "iopub.status.idle": "2022-11-21T00:37:41.675047Z",
     "shell.execute_reply": "2022-11-21T00:37:41.673483Z"
    },
    "papermill": {
     "duration": 0.020536,
     "end_time": "2022-11-21T00:37:41.677549",
     "exception": false,
     "start_time": "2022-11-21T00:37:41.657013",
     "status": "completed"
    },
    "tags": []
   },
   "outputs": [
    {
     "name": "stdout",
     "output_type": "stream",
     "text": [
      "user: 1.0        item: 541        r_ui = None   est = 4.31   {'was_impossible': False}\n"
     ]
    },
    {
     "data": {
      "text/plain": [
       "Prediction(uid=1.0, iid=541, r_ui=None, est=4.31059354884639, details={'was_impossible': False})"
      ]
     },
     "execution_count": 12,
     "metadata": {},
     "output_type": "execute_result"
    }
   ],
   "source": [
    "svd_model.predict(uid=1.0, iid=541, verbose=True)"
   ]
  },
  {
   "cell_type": "markdown",
   "id": "4bbe450d",
   "metadata": {
    "papermill": {
     "duration": 0.008169,
     "end_time": "2022-11-21T00:37:41.694490",
     "exception": false,
     "start_time": "2022-11-21T00:37:41.686321",
     "status": "completed"
    },
    "tags": []
   },
   "source": [
    "# Model tuning"
   ]
  },
  {
   "cell_type": "markdown",
   "id": "3e03cbcb",
   "metadata": {
    "papermill": {
     "duration": 0.007988,
     "end_time": "2022-11-21T00:37:41.710781",
     "exception": false,
     "start_time": "2022-11-21T00:37:41.702793",
     "status": "completed"
    },
    "tags": []
   },
   "source": [
    "### Let's optimize the model to increase the prediction performance of the model via hyperparameters"
   ]
  },
  {
   "cell_type": "code",
   "execution_count": 13,
   "id": "cc4a066f",
   "metadata": {
    "execution": {
     "iopub.execute_input": "2022-11-21T00:37:41.729090Z",
     "iopub.status.busy": "2022-11-21T00:37:41.728746Z",
     "iopub.status.idle": "2022-11-21T00:37:41.733650Z",
     "shell.execute_reply": "2022-11-21T00:37:41.732640Z"
    },
    "papermill": {
     "duration": 0.016309,
     "end_time": "2022-11-21T00:37:41.735444",
     "exception": false,
     "start_time": "2022-11-21T00:37:41.719135",
     "status": "completed"
    },
    "tags": []
   },
   "outputs": [],
   "source": [
    "param_grid = {'n_epochs': [5, 10, 20, 30, 50],\n",
    "             'lr_all': [0.002, 0.005, 0.007, 0.01]}"
   ]
  },
  {
   "cell_type": "code",
   "execution_count": 14,
   "id": "f1fc3bbe",
   "metadata": {
    "execution": {
     "iopub.execute_input": "2022-11-21T00:37:41.754115Z",
     "iopub.status.busy": "2022-11-21T00:37:41.753754Z",
     "iopub.status.idle": "2022-11-21T00:42:52.108951Z",
     "shell.execute_reply": "2022-11-21T00:42:52.108072Z"
    },
    "papermill": {
     "duration": 310.375334,
     "end_time": "2022-11-21T00:42:52.119296",
     "exception": false,
     "start_time": "2022-11-21T00:37:41.743962",
     "status": "completed"
    },
    "tags": []
   },
   "outputs": [
    {
     "name": "stderr",
     "output_type": "stream",
     "text": [
      "[Parallel(n_jobs=-1)]: Using backend LokyBackend with 4 concurrent workers.\n",
      "[Parallel(n_jobs=-1)]: Done  42 tasks      | elapsed:  1.7min\n",
      "[Parallel(n_jobs=-1)]: Done 100 out of 100 | elapsed:  5.1min finished\n"
     ]
    }
   ],
   "source": [
    "gs = GridSearchCV(SVD, param_grid, measures=['rmse', 'mae'], cv=5, n_jobs=-1, joblib_verbose=True)\n",
    "gs.fit(data)"
   ]
  },
  {
   "cell_type": "markdown",
   "id": "c1602de5",
   "metadata": {
    "papermill": {
     "duration": 0.008447,
     "end_time": "2022-11-21T00:42:52.136723",
     "exception": false,
     "start_time": "2022-11-21T00:42:52.128276",
     "status": "completed"
    },
    "tags": []
   },
   "source": [
    "### Let's calculate the RMSE and MAE values"
   ]
  },
  {
   "cell_type": "code",
   "execution_count": 15,
   "id": "71165ee5",
   "metadata": {
    "execution": {
     "iopub.execute_input": "2022-11-21T00:42:52.156784Z",
     "iopub.status.busy": "2022-11-21T00:42:52.156033Z",
     "iopub.status.idle": "2022-11-21T00:42:52.162888Z",
     "shell.execute_reply": "2022-11-21T00:42:52.161443Z"
    },
    "papermill": {
     "duration": 0.019286,
     "end_time": "2022-11-21T00:42:52.164970",
     "exception": false,
     "start_time": "2022-11-21T00:42:52.145684",
     "status": "completed"
    },
    "tags": []
   },
   "outputs": [
    {
     "name": "stdout",
     "output_type": "stream",
     "text": [
      "RMSE: 0.9312019912711843 and MAE: 0.718338452797967\n"
     ]
    }
   ],
   "source": [
    "print('RMSE:', gs.best_score['rmse'], 'and', 'MAE:', gs.best_score['mae'])"
   ]
  },
  {
   "cell_type": "markdown",
   "id": "9b4d00ff",
   "metadata": {
    "papermill": {
     "duration": 0.009103,
     "end_time": "2022-11-21T00:42:52.182967",
     "exception": false,
     "start_time": "2022-11-21T00:42:52.173864",
     "status": "completed"
    },
    "tags": []
   },
   "source": [
    "### Let's determine the best parameters for RMSE and MAE"
   ]
  },
  {
   "cell_type": "code",
   "execution_count": 16,
   "id": "a419c696",
   "metadata": {
    "execution": {
     "iopub.execute_input": "2022-11-21T00:42:52.203199Z",
     "iopub.status.busy": "2022-11-21T00:42:52.202630Z",
     "iopub.status.idle": "2022-11-21T00:42:52.207990Z",
     "shell.execute_reply": "2022-11-21T00:42:52.206428Z"
    },
    "papermill": {
     "duration": 0.01783,
     "end_time": "2022-11-21T00:42:52.210004",
     "exception": false,
     "start_time": "2022-11-21T00:42:52.192174",
     "status": "completed"
    },
    "tags": []
   },
   "outputs": [
    {
     "name": "stdout",
     "output_type": "stream",
     "text": [
      "The best parameters for RMSE are {'n_epochs': 5, 'lr_all': 0.002}\n"
     ]
    }
   ],
   "source": [
    "print('The best parameters for RMSE are', gs.best_params['rmse'])"
   ]
  },
  {
   "cell_type": "code",
   "execution_count": 17,
   "id": "97f8e19f",
   "metadata": {
    "execution": {
     "iopub.execute_input": "2022-11-21T00:42:52.230233Z",
     "iopub.status.busy": "2022-11-21T00:42:52.229917Z",
     "iopub.status.idle": "2022-11-21T00:42:52.235977Z",
     "shell.execute_reply": "2022-11-21T00:42:52.234545Z"
    },
    "papermill": {
     "duration": 0.018878,
     "end_time": "2022-11-21T00:42:52.238791",
     "exception": false,
     "start_time": "2022-11-21T00:42:52.219913",
     "status": "completed"
    },
    "tags": []
   },
   "outputs": [
    {
     "name": "stdout",
     "output_type": "stream",
     "text": [
      "The best parameters for MAE are {'n_epochs': 10, 'lr_all': 0.002}\n"
     ]
    }
   ],
   "source": [
    "print('The best parameters for MAE are', gs.best_params['mae'])"
   ]
  },
  {
   "cell_type": "markdown",
   "id": "1a71f0fe",
   "metadata": {
    "papermill": {
     "duration": 0.009009,
     "end_time": "2022-11-21T00:42:52.257706",
     "exception": false,
     "start_time": "2022-11-21T00:42:52.248697",
     "status": "completed"
    },
    "tags": []
   },
   "source": [
    "# Final model and prediction"
   ]
  },
  {
   "cell_type": "markdown",
   "id": "33a638bc",
   "metadata": {
    "papermill": {
     "duration": 0.008837,
     "end_time": "2022-11-21T00:42:52.275688",
     "exception": false,
     "start_time": "2022-11-21T00:42:52.266851",
     "status": "completed"
    },
    "tags": []
   },
   "source": [
    "### Since the hyperparameters gave better results, let's create the SVD model again."
   ]
  },
  {
   "cell_type": "code",
   "execution_count": 18,
   "id": "739726d6",
   "metadata": {
    "execution": {
     "iopub.execute_input": "2022-11-21T00:42:52.295718Z",
     "iopub.status.busy": "2022-11-21T00:42:52.295361Z",
     "iopub.status.idle": "2022-11-21T00:42:52.300493Z",
     "shell.execute_reply": "2022-11-21T00:42:52.299365Z"
    },
    "papermill": {
     "duration": 0.017662,
     "end_time": "2022-11-21T00:42:52.302393",
     "exception": false,
     "start_time": "2022-11-21T00:42:52.284731",
     "status": "completed"
    },
    "tags": []
   },
   "outputs": [],
   "source": [
    "svd_model_rmse = SVD(**gs.best_params['rmse'])\n",
    "svd_model_mae = SVD(**gs.best_params['mae'])"
   ]
  },
  {
   "cell_type": "markdown",
   "id": "7bedf73e",
   "metadata": {
    "papermill": {
     "duration": 0.00884,
     "end_time": "2022-11-21T00:42:52.320472",
     "exception": false,
     "start_time": "2022-11-21T00:42:52.311632",
     "status": "completed"
    },
    "tags": []
   },
   "source": [
    "### Let's show the whole data to the model to get better learn with more data"
   ]
  },
  {
   "cell_type": "code",
   "execution_count": 19,
   "id": "41f8bf76",
   "metadata": {
    "execution": {
     "iopub.execute_input": "2022-11-21T00:42:52.340174Z",
     "iopub.status.busy": "2022-11-21T00:42:52.339851Z",
     "iopub.status.idle": "2022-11-21T00:42:52.574419Z",
     "shell.execute_reply": "2022-11-21T00:42:52.573403Z"
    },
    "papermill": {
     "duration": 0.247177,
     "end_time": "2022-11-21T00:42:52.576894",
     "exception": false,
     "start_time": "2022-11-21T00:42:52.329717",
     "status": "completed"
    },
    "tags": []
   },
   "outputs": [],
   "source": [
    "data = data.build_full_trainset()"
   ]
  },
  {
   "cell_type": "markdown",
   "id": "8a33a467",
   "metadata": {
    "papermill": {
     "duration": 0.00867,
     "end_time": "2022-11-21T00:42:52.594640",
     "exception": false,
     "start_time": "2022-11-21T00:42:52.585970",
     "status": "completed"
    },
    "tags": []
   },
   "source": [
    "### Let's predict using the above defined movie ids"
   ]
  },
  {
   "cell_type": "code",
   "execution_count": 20,
   "id": "8c9c3954",
   "metadata": {
    "execution": {
     "iopub.execute_input": "2022-11-21T00:42:52.614820Z",
     "iopub.status.busy": "2022-11-21T00:42:52.614424Z",
     "iopub.status.idle": "2022-11-21T00:42:54.220622Z",
     "shell.execute_reply": "2022-11-21T00:42:54.219197Z"
    },
    "papermill": {
     "duration": 1.619848,
     "end_time": "2022-11-21T00:42:54.223604",
     "exception": false,
     "start_time": "2022-11-21T00:42:52.603756",
     "status": "completed"
    },
    "tags": []
   },
   "outputs": [
    {
     "name": "stdout",
     "output_type": "stream",
     "text": [
      "user: 1.0        item: 130219     r_ui = None   est = 3.92   {'was_impossible': False}\n",
      "user: 1.0        item: 130219     r_ui = None   est = 3.92   {'was_impossible': False}\n",
      "user: 1.0        item: 356        r_ui = None   est = 4.07   {'was_impossible': False}\n",
      "user: 1.0        item: 356        r_ui = None   est = 4.07   {'was_impossible': False}\n",
      "user: 1.0        item: 4422       r_ui = None   est = 4.07   {'was_impossible': False}\n",
      "user: 1.0        item: 4422       r_ui = None   est = 4.07   {'was_impossible': False}\n",
      "user: 1.0        item: 541        r_ui = None   est = 4.21   {'was_impossible': False}\n",
      "user: 1.0        item: 541        r_ui = None   est = 4.21   {'was_impossible': False}\n"
     ]
    }
   ],
   "source": [
    "movie_ids = [130219, 356, 4422, 541]\n",
    "svd_model_rmse.fit(data)\n",
    "for i in movie_ids:\n",
    "    print(svd_model_rmse.predict(uid=1.0, iid=i, verbose=True))"
   ]
  },
  {
   "cell_type": "code",
   "execution_count": 21,
   "id": "ed8d73c4",
   "metadata": {
    "execution": {
     "iopub.execute_input": "2022-11-21T00:42:54.244870Z",
     "iopub.status.busy": "2022-11-21T00:42:54.244417Z",
     "iopub.status.idle": "2022-11-21T00:42:57.196610Z",
     "shell.execute_reply": "2022-11-21T00:42:57.195144Z"
    },
    "papermill": {
     "duration": 2.966711,
     "end_time": "2022-11-21T00:42:57.199551",
     "exception": false,
     "start_time": "2022-11-21T00:42:54.232840",
     "status": "completed"
    },
    "tags": []
   },
   "outputs": [
    {
     "name": "stdout",
     "output_type": "stream",
     "text": [
      "user: 1.0        item: 130219     r_ui = None   est = 4.14   {'was_impossible': False}\n",
      "user: 1.0        item: 130219     r_ui = None   est = 4.14   {'was_impossible': False}\n",
      "user: 1.0        item: 356        r_ui = None   est = 4.06   {'was_impossible': False}\n",
      "user: 1.0        item: 356        r_ui = None   est = 4.06   {'was_impossible': False}\n",
      "user: 1.0        item: 4422       r_ui = None   est = 3.90   {'was_impossible': False}\n",
      "user: 1.0        item: 4422       r_ui = None   est = 3.90   {'was_impossible': False}\n",
      "user: 1.0        item: 541        r_ui = None   est = 4.16   {'was_impossible': False}\n",
      "user: 1.0        item: 541        r_ui = None   est = 4.16   {'was_impossible': False}\n"
     ]
    }
   ],
   "source": [
    "movie_ids = [130219, 356, 4422, 541]\n",
    "svd_model_mae.fit(data)\n",
    "for i in movie_ids:\n",
    "    print(svd_model_mae.predict(uid=1.0, iid=i, verbose=True))"
   ]
  },
  {
   "cell_type": "markdown",
   "id": "180e4405",
   "metadata": {
    "papermill": {
     "duration": 0.009655,
     "end_time": "2022-11-21T00:42:57.219458",
     "exception": false,
     "start_time": "2022-11-21T00:42:57.209803",
     "status": "completed"
    },
    "tags": []
   },
   "source": [
    "### Consequently, currently, we have an optimized model and the possibility to make predictions for the user-movie pair we want using this model. Therefore, when the information of the users and movies are entered according to some subsets to be selected, an information about which movie should be recommended to which user is received. The prediction value after entering user-movie pair may be low. Therefore, after getting the relevant estimates, it is necessary to filter the movies and recommend the movies for which we have predicted high scores for certain users."
   ]
  },
  {
   "cell_type": "markdown",
   "id": "a19d4cc5",
   "metadata": {
    "papermill": {
     "duration": 0.008878,
     "end_time": "2022-11-21T00:42:57.238307",
     "exception": false,
     "start_time": "2022-11-21T00:42:57.229429",
     "status": "completed"
    },
    "tags": []
   },
   "source": [
    "# Thank you for checking my notebook!"
   ]
  }
 ],
 "metadata": {
  "kernelspec": {
   "display_name": "Python 3",
   "language": "python",
   "name": "python3"
  },
  "language_info": {
   "codemirror_mode": {
    "name": "ipython",
    "version": 3
   },
   "file_extension": ".py",
   "mimetype": "text/x-python",
   "name": "python",
   "nbconvert_exporter": "python",
   "pygments_lexer": "ipython3",
   "version": "3.7.12"
  },
  "papermill": {
   "default_parameters": {},
   "duration": 360.429901,
   "end_time": "2022-11-21T00:42:59.969772",
   "environment_variables": {},
   "exception": null,
   "input_path": "__notebook__.ipynb",
   "output_path": "__notebook__.ipynb",
   "parameters": {},
   "start_time": "2022-11-21T00:36:59.539871",
   "version": "2.3.4"
  }
 },
 "nbformat": 4,
 "nbformat_minor": 5
}
